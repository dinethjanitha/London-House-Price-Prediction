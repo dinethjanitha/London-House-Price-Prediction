{
  "nbformat": 4,
  "nbformat_minor": 0,
  "metadata": {
    "colab": {
      "provenance": [],
      "mount_file_id": "1hbMuhdILOw4pOZjWAhMVF7YjxOQWLvH-",
      "authorship_tag": "ABX9TyPKgfOD5JxpVboZ3S22hhTf",
      "include_colab_link": true
    },
    "kernelspec": {
      "name": "python3",
      "display_name": "Python 3"
    },
    "language_info": {
      "name": "python"
    }
  },
  "cells": [
    {
      "cell_type": "markdown",
      "metadata": {
        "id": "view-in-github",
        "colab_type": "text"
      },
      "source": [
        "<a href=\"https://colab.research.google.com/github/dinethjanitha/London-House-Price-Prediction/blob/main/LondonHousePredictApp.ipynb\" target=\"_parent\"><img src=\"https://colab.research.google.com/assets/colab-badge.svg\" alt=\"Open In Colab\"/></a>"
      ]
    },
    {
      "cell_type": "code",
      "execution_count": null,
      "metadata": {
        "colab": {
          "base_uri": "https://localhost:8080/"
        },
        "id": "4NNXHzbrxu0B",
        "outputId": "1edb6614-0705-47e1-fb86-2f556437ab06"
      },
      "outputs": [
        {
          "output_type": "stream",
          "name": "stdout",
          "text": [
            "\u001b[2K     \u001b[90m━━━━━━━━━━━━━━━━━━━━━━━━━━━━━━━━━━━━━━━━\u001b[0m \u001b[32m44.3/44.3 kB\u001b[0m \u001b[31m1.9 MB/s\u001b[0m eta \u001b[36m0:00:00\u001b[0m\n",
            "\u001b[2K   \u001b[90m━━━━━━━━━━━━━━━━━━━━━━━━━━━━━━━━━━━━━━━━\u001b[0m \u001b[32m9.9/9.9 MB\u001b[0m \u001b[31m98.1 MB/s\u001b[0m eta \u001b[36m0:00:00\u001b[0m\n",
            "\u001b[2K   \u001b[90m━━━━━━━━━━━━━━━━━━━━━━━━━━━━━━━━━━━━━━━━\u001b[0m \u001b[32m6.9/6.9 MB\u001b[0m \u001b[31m103.7 MB/s\u001b[0m eta \u001b[36m0:00:00\u001b[0m\n",
            "\u001b[2K   \u001b[90m━━━━━━━━━━━━━━━━━━━━━━━━━━━━━━━━━━━━━━━━\u001b[0m \u001b[32m79.1/79.1 kB\u001b[0m \u001b[31m6.4 MB/s\u001b[0m eta \u001b[36m0:00:00\u001b[0m\n",
            "\u001b[?25h"
          ]
        }
      ],
      "source": [
        "!pip install -q streamlit"
      ]
    },
    {
      "cell_type": "code",
      "source": [
        "%%writefile app.py\n",
        "import streamlit as st\n",
        "import joblib\n",
        "import pandas as pd # Import pandas to create DataFrame for prediction\n",
        "\n",
        "st.set_page_config(layout=\"wide\", page_title=\"London House Price Predictor\")\n",
        "\n",
        "st.write(\"# London House Price Predict\")\n",
        "\n",
        "col1, col2, col3 = st.columns(3)\n",
        "\n",
        "bathroom_count = col1.number_input(\"Enter bathroom count\", min_value=0, step=1, value=1)\n",
        "\n",
        "livingroom_count = col2.number_input(\"Enter living rooms count\", min_value=0, step=1, value=1)\n",
        "\n",
        "bedroom_count = col3.number_input(\"Enter bedroom count\", min_value=0, step=1, value=2)\n",
        "\n",
        "floor_area_sqm = col1.number_input(\"Enter floor area square meters\", min_value=0, step=1, value=75)\n",
        "\n",
        "latitude = col2.number_input(\"Enter latitude\", min_value=-90.0, max_value=90.0, format=\"%.6f\", value=51.5074)\n",
        "\n",
        "longitude = col3.number_input(\"Enter longitude\", min_value=-180.0, max_value=180.0, format=\"%.6f\", value=0.1278)\n",
        "\n",
        "sale_month = col1.selectbox(\"Enter sale month\", [1, 2, 3, 4, 5, 6, 7, 8, 9, 10, 11, 12], index=0)\n",
        "\n",
        "current_year = 2025\n",
        "years = list(range(current_year - 20, current_year + 1))\n",
        "sale_year = col2.selectbox(\"Enter sale year\", options=years, index=len(years)-1)\n",
        "\n",
        "tenure_options = ['Leasehold', 'Freehold', 'Feudal', 'Shared']\n",
        "tenure = col3.selectbox(\"Enter tenure\", tenure_options, index=0)\n",
        "\n",
        "energy_rate = col1.selectbox(\"Enter energy rating\", [0 , 1, 2 ,3 ,4 ,5 ,6], index=0)\n",
        "\n",
        "property_type_options = [\n",
        "    'Terrace Property', 'Mid Terrace House', 'Converted Flat',\n",
        "    'Purpose Built Flat', 'Semi-Detached House', 'End Terrace House',\n",
        "    'Flat/Maisonette', 'Detached House','Bungalow Property', 'Terraced',\n",
        "    'Mid Terrace Property', 'Detached Bungalow' ,'Semi-Detached Bungalow',\n",
        "    'End Terrace Property', 'Terraced Bungalow', 'Mid Terrace Bungalow',\n",
        "    'Detached Property', 'Semi-Detached Property', 'End Terrace Bungalow'\n",
        "]\n",
        "propertyType = col2.selectbox(\"Enter Property type\", property_type_options, index=0)\n",
        "\n",
        "outcode_options = [\n",
        "    'E1', 'E10', 'E11', 'E13', 'E14', 'E15', 'E17', 'E18', 'E3', 'E4',\n",
        "    'E5', 'E8', 'EC2Y', 'N10', 'N11', 'N12', 'N13', 'N14', 'N15',\n",
        "    'N16', 'N17', 'N19', 'N2', 'N21', 'N22', 'N5', 'N6', 'N7', 'N8',\n",
        "    'N9', 'NW1', 'NW10', 'NW11', 'NW2', 'NW3', 'NW4', 'NW5', 'NW6',\n",
        "    'NW8', 'SE1', 'SE10', 'SE11', 'SE13', 'SE15', 'SE16', 'SE17',\n",
        "    'SE18', 'SE2', 'SE20', 'SE21', 'SE23', 'SE24', 'SE25', 'SE26',\n",
        "    'SE27', 'SE28', 'SE3', 'SE4', 'SE5', 'SE6', 'SE7', 'SE9', 'SW10',\n",
        "    'SW11', 'SW12', 'SW13', 'SW14', 'SW15', 'SW16', 'SW17', 'SW18',\n",
        "    'SW19', 'SW1P', 'SW1V', 'SW1X', 'SW2', 'SW3', 'SW4', 'SW5', 'SW6',\n",
        "    'SW7', 'W10', 'W11', 'W12', 'W13', 'W14', 'W1F', 'W1H', 'W1J',\n",
        "    'W1W', 'W2', 'W4', 'W6', 'W7', 'W8', 'WC1H', 'WC1R', 'WC1X',\n",
        "    'WC2B', 'WC2H', 'E6', 'E7', 'N1', 'N18', 'N20', 'N3', 'N4', 'NW9',\n",
        "    'SE12', 'SE19', 'SE22', 'SE8', 'SW1H', 'SW20', 'SW8', 'SW9', 'W1K',\n",
        "    'W1T', 'W5', 'WC1A', 'WC1B', 'WC1E', 'WC2E', 'E12', 'E2', 'E9',\n",
        "    'NW7', 'SE14', 'SW1W', 'W1D', 'W1G', 'W1U', 'W3', 'W9', 'WC1N',\n",
        "    'EC4R', 'SW1E', 'EC1R', 'EC4A', 'SW1A', 'W1S', 'E16', 'WC2N',\n",
        "    'EC4V', 'E1W', 'EC1N', 'W1B', 'SW1Y', 'EC2A', 'EC3V', 'EC1A',\n",
        "    'EC1Y', 'EC4Y', 'EC1V', 'EC3A', 'EC3N', 'EC1M', 'EC4M', 'WC2R',\n",
        "    'EC2M', 'EC3R', 'WC2A', 'WC1V', 'EC2V', 'EC2R', 'W1C'\n",
        "]\n",
        "outcode = col3.selectbox(\"Enter outcode\", outcode_options, index=0)\n",
        "\n",
        "tenure_map = {option: i for i, option in enumerate(tenure_options)}\n",
        "\n",
        "property_type_map = {option: i for i, option in enumerate(property_type_options)}\n",
        "\n",
        "outcode_map = {option: i for i, option in enumerate(outcode_options)}\n",
        "\n",
        "@st.cache_resource\n",
        "def load_model():\n",
        "    try:\n",
        "        model = joblib.load('/content/drive/MyDrive/Assignment/StreamLit/londonhousepredict.pkl')\n",
        "        return model\n",
        "    except FileNotFoundError:\n",
        "        st.error(\"Model file not found. Please ensure 'londonhousepredict.pkl' is in the specified path.\")\n",
        "        return None\n",
        "    except Exception as e:\n",
        "        st.error(f\"Error loading model: {e}\")\n",
        "        return None\n",
        "\n",
        "model = load_model()\n",
        "\n",
        "st.markdown(\"---\")\n",
        "if st.button(\"Predict House Price\"):\n",
        "    if model is not None:\n",
        "        numerical_tenure = tenure_map[tenure]\n",
        "        numerical_property_type = property_type_map[propertyType]\n",
        "        numerical_outcode = outcode_map[outcode]\n",
        "\n",
        "\n",
        "        input_data = pd.DataFrame([[\n",
        "            numerical_outcode,\n",
        "            latitude,\n",
        "            longitude,\n",
        "            bathroom_count,\n",
        "            floor_area_sqm,\n",
        "            livingroom_count,\n",
        "            numerical_tenure,\n",
        "            numerical_property_type,\n",
        "            energy_rate,\n",
        "            sale_year\n",
        "        ]], columns=[\n",
        "            'outcode', 'latitude', 'longitude', 'bathrooms', 'floorAreaSqM',\n",
        "            'livingRooms', 'tenure', 'propertyType', 'currentEnergyRating',\n",
        "            'sale_year'\n",
        "        ])\n",
        "\n",
        "        try:\n",
        "            # Make prediction\n",
        "            predicted_price = model.predict(input_data)[0]\n",
        "            st.markdown(f\"### Predicted Price: £ {predicted_price:,.2f}\")\n",
        "        except Exception as e:\n",
        "            st.error(f\"Error during prediction: {e}\")\n",
        "            st.write(\"Please ensure the model expects these exact features and their order.\")\n",
        "    else:\n",
        "        st.warning(\"Model could not be loaded. Cannot make prediction.\")\n",
        "\n"
      ],
      "metadata": {
        "colab": {
          "base_uri": "https://localhost:8080/"
        },
        "id": "cKJSWCHlyTfG",
        "outputId": "cc9ac6fe-5505-4027-a668-2865566795e5"
      },
      "execution_count": null,
      "outputs": [
        {
          "output_type": "stream",
          "name": "stdout",
          "text": [
            "Overwriting app.py\n"
          ]
        }
      ]
    },
    {
      "cell_type": "code",
      "source": [
        "%%writefile app.py\n",
        "import streamlit as st\n",
        "import joblib\n",
        "import pandas as pd\n",
        "\n",
        "# Page configuration\n",
        "st.set_page_config(\n",
        "    layout=\"wide\",\n",
        "    page_title=\"London House Price Predictor\",\n",
        "    page_icon=\"🏠\"\n",
        ")\n",
        "\n",
        "# Custom CSS styling\n",
        "st.markdown(\"\"\"\n",
        "    <style>\n",
        "        .main {\n",
        "            background-color: #f5f5f5;\n",
        "        }\n",
        "        .block-container {\n",
        "            padding-top: 2rem;\n",
        "        }\n",
        "        .title-text {\n",
        "            font-size: 3rem;\n",
        "            color: #2c3e50;\n",
        "            font-weight: bold;\n",
        "        }\n",
        "        .predict-button > button {\n",
        "            background-color: #27ae60;\n",
        "            color: white;\n",
        "            font-size: 1.1rem;\n",
        "            border-radius: 10px;\n",
        "            padding: 0.5rem 1rem;\n",
        "        }\n",
        "        .predict-button > button:hover {\n",
        "            background-color: #219150;\n",
        "        }\n",
        "        .price-box {\n",
        "            background-color: #dff0d8;\n",
        "            color: #2c3e50;\n",
        "            padding: 1rem;\n",
        "            border-radius: 15px;\n",
        "            font-size: 1.5rem;\n",
        "            font-weight: bold;\n",
        "            text-align: center;\n",
        "        }\n",
        "    </style>\n",
        "\"\"\", unsafe_allow_html=True)\n",
        "\n",
        "st.markdown('<div class=\"title-text\">🏠 London House Price Predictor</div>', unsafe_allow_html=True)\n",
        "st.markdown(\"---\")\n",
        "\n",
        "col1, col2, col3 = st.columns(3)\n",
        "\n",
        "with col1:\n",
        "    bathroom_count = st.number_input(\"🛁 Bathroom count\", min_value=0, step=1, value=1)\n",
        "    floor_area_sqm = st.number_input(\"📐 Floor area (sq meters)\", min_value=0, step=1, value=75)\n",
        "    sale_month = st.selectbox(\"📅 Sale month\", list(range(1, 13)), index=0)\n",
        "    energy_rate = st.selectbox(\"⚡ Energy rating\", [0, 1, 2, 3, 4, 5, 6], index=0)\n",
        "\n",
        "with col2:\n",
        "    livingroom_count = st.number_input(\"🛋️ Living rooms count\", min_value=0, step=1, value=1)\n",
        "    latitude = st.number_input(\"🌍 Latitude\", min_value=-90.0, max_value=90.0, format=\"%.6f\", value=51.5074)\n",
        "    current_year = 2025\n",
        "    years = list(range(current_year - 20, current_year + 1))\n",
        "    sale_year = st.selectbox(\"📆 Sale year\", options=years, index=len(years)-1)\n",
        "    propertyType = st.selectbox(\"🏘️ Property type\", [\n",
        "        'Terrace Property', 'Mid Terrace House', 'Converted Flat',\n",
        "        'Purpose Built Flat', 'Semi-Detached House', 'End Terrace House',\n",
        "        'Flat/Maisonette', 'Detached House','Bungalow Property', 'Terraced',\n",
        "        'Mid Terrace Property', 'Detached Bungalow' ,'Semi-Detached Bungalow',\n",
        "        'End Terrace Property', 'Terraced Bungalow', 'Mid Terrace Bungalow',\n",
        "        'Detached Property', 'Semi-Detached Property', 'End Terrace Bungalow'\n",
        "    ], index=0)\n",
        "\n",
        "with col3:\n",
        "    bedroom_count = st.number_input(\"🛏️ Bedroom count\", min_value=0, step=1, value=2)\n",
        "    longitude = st.number_input(\"🌍 Longitude\", min_value=-180.0, max_value=180.0, format=\"%.6f\", value=0.1278)\n",
        "    tenure = st.selectbox(\"📜 Tenure type\", ['Leasehold', 'Freehold', 'Feudal', 'Shared'], index=0)\n",
        "    outcode = st.selectbox(\"📮 Outcode\", [\n",
        "        'E1', 'E10', 'E11', 'E13', 'E14', 'E15', 'E17', 'E18', 'E3', 'E4',\n",
        "        'E5', 'E8', 'EC2Y', 'N10', 'N11', 'N12', 'N13', 'N14', 'N15', 'N16',\n",
        "        'N17', 'N19', 'N2', 'N21', 'N22', 'N5', 'N6', 'N7', 'N8', 'N9', 'NW1',\n",
        "        'NW10', 'NW11', 'NW2', 'NW3', 'NW4', 'NW5', 'NW6', 'NW8', 'SE1', 'SE10',\n",
        "        'SE11', 'SE13', 'SE15', 'SE16', 'SE17', 'SE18', 'SE2', 'SE20', 'SE21',\n",
        "        'SE23', 'SE24', 'SE25', 'SE26', 'SE27', 'SE28', 'SE3', 'SE4', 'SE5',\n",
        "        'SE6', 'SE7', 'SE9', 'SW10', 'SW11', 'SW12', 'SW13', 'SW14', 'SW15',\n",
        "        'SW16', 'SW17', 'SW18', 'SW19', 'SW1P', 'SW1V', 'SW1X', 'SW2', 'SW3',\n",
        "        'SW4', 'SW5', 'SW6', 'SW7', 'W10', 'W11', 'W12', 'W13', 'W14', 'W1F',\n",
        "        'W1H', 'W1J', 'W1W', 'W2', 'W4', 'W6', 'W7', 'W8', 'WC1H', 'WC1R', 'WC1X',\n",
        "        'WC2B', 'WC2H', 'E6', 'E7', 'N1', 'N18', 'N20', 'N3', 'N4', 'NW9',\n",
        "        'SE12', 'SE19', 'SE22', 'SE8', 'SW1H', 'SW20', 'SW8', 'SW9', 'W1K',\n",
        "        'W1T', 'W5', 'WC1A', 'WC1B', 'WC1E', 'WC2E', 'E12', 'E2', 'E9',\n",
        "        'NW7', 'SE14', 'SW1W', 'W1D', 'W1G', 'W1U', 'W3', 'W9', 'WC1N',\n",
        "        'EC4R', 'SW1E', 'EC1R', 'EC4A', 'SW1A', 'W1S', 'E16', 'WC2N',\n",
        "        'EC4V', 'E1W', 'EC1N', 'W1B', 'SW1Y', 'EC2A', 'EC3V', 'EC1A',\n",
        "        'EC1Y', 'EC4Y', 'EC1V', 'EC3A', 'EC3N', 'EC1M', 'EC4M', 'WC2R',\n",
        "        'EC2M', 'EC3R', 'WC2A', 'WC1V', 'EC2V', 'EC2R', 'W1C'\n",
        "    ], index=0)\n",
        "\n",
        "tenure_map = {option: i for i, option in enumerate(['Leasehold', 'Freehold', 'Feudal', 'Shared'])}\n",
        "property_type_map = {option: i for i, option in enumerate([\n",
        "    'Terrace Property', 'Mid Terrace House', 'Converted Flat',\n",
        "    'Purpose Built Flat', 'Semi-Detached House', 'End Terrace House',\n",
        "    'Flat/Maisonette', 'Detached House','Bungalow Property', 'Terraced',\n",
        "    'Mid Terrace Property', 'Detached Bungalow' ,'Semi-Detached Bungalow',\n",
        "    'End Terrace Property', 'Terraced Bungalow', 'Mid Terrace Bungalow',\n",
        "    'Detached Property', 'Semi-Detached Property', 'End Terrace Bungalow'\n",
        "])}\n",
        "outcode_map = {option: i for i, option in enumerate(outcode_options)}\n",
        "\n",
        "@st.cache_resource\n",
        "def load_model():\n",
        "    try:\n",
        "        model = joblib.load('/content/drive/MyDrive/Assignment/StreamLit/londonhousepredict.pkl')\n",
        "        return model\n",
        "    except FileNotFoundError:\n",
        "        st.error(\"Model file not found.\")\n",
        "        return None\n",
        "    except Exception as e:\n",
        "        st.error(f\"Error loading model: {e}\")\n",
        "        return None\n",
        "\n",
        "model = load_model()\n",
        "\n",
        "st.markdown(\"---\")\n",
        "with st.container():\n",
        "    col_center = st.columns([1, 2, 1])[1]\n",
        "    with col_center:\n",
        "        if st.button(\"💰 Predict Price\", key=\"predict\", help=\"Click to predict price\", type=\"primary\"):\n",
        "            if model:\n",
        "                try:\n",
        "                    input_data = pd.DataFrame([[\n",
        "                        outcode_map[outcode],\n",
        "                        latitude,\n",
        "                        longitude,\n",
        "                        bathroom_count,\n",
        "                        floor_area_sqm,\n",
        "                        livingroom_count,\n",
        "                        tenure_map[tenure],\n",
        "                        property_type_map[propertyType],\n",
        "                        energy_rate,\n",
        "                        sale_year\n",
        "                    ]], columns=[\n",
        "                        'outcode', 'latitude', 'longitude', 'bathrooms', 'floorAreaSqM',\n",
        "                        'livingRooms', 'tenure', 'propertyType', 'currentEnergyRating',\n",
        "                        'sale_year'\n",
        "                    ])\n",
        "\n",
        "                    predicted_price = model.predict(input_data)[0]\n",
        "                    st.markdown(f'<div class=\"price-box\">💷 Predicted Price: £ {predicted_price:,.2f}</div>', unsafe_allow_html=True)\n",
        "\n",
        "                except Exception as e:\n",
        "                    st.error(f\"Prediction error: {e}\")\n",
        "                    st.info(\"Ensure the model expects these exact features.\")\n",
        "            else:\n",
        "                st.warning(\"Model not loaded. Prediction unavailable.\")\n"
      ],
      "metadata": {
        "colab": {
          "base_uri": "https://localhost:8080/"
        },
        "id": "seuFRjoIH9m6",
        "outputId": "75127800-6bb5-4097-b372-6827d55926ab"
      },
      "execution_count": null,
      "outputs": [
        {
          "output_type": "stream",
          "name": "stdout",
          "text": [
            "Overwriting app.py\n"
          ]
        }
      ]
    },
    {
      "cell_type": "markdown",
      "source": [],
      "metadata": {
        "id": "xAtI50_rDzZZ"
      }
    },
    {
      "cell_type": "code",
      "source": [
        "!npm install localtunnel"
      ],
      "metadata": {
        "colab": {
          "base_uri": "https://localhost:8080/"
        },
        "id": "S3ASZZ4SzJce",
        "outputId": "e6ee8402-47cd-42fe-f9cd-08b76f185086"
      },
      "execution_count": null,
      "outputs": [
        {
          "output_type": "stream",
          "name": "stdout",
          "text": [
            "\u001b[1G\u001b[0K⠙\u001b[1G\u001b[0K⠹\u001b[1G\u001b[0K⠸\u001b[1G\u001b[0K⠼\u001b[1G\u001b[0K⠴\u001b[1G\u001b[0K⠦\u001b[1G\u001b[0K⠧\u001b[1G\u001b[0K\n",
            "up to date, audited 23 packages in 1s\n",
            "\u001b[1G\u001b[0K⠧\u001b[1G\u001b[0K\n",
            "\u001b[1G\u001b[0K⠧\u001b[1G\u001b[0K3 packages are looking for funding\n",
            "\u001b[1G\u001b[0K⠧\u001b[1G\u001b[0K  run `npm fund` for details\n",
            "\u001b[1G\u001b[0K⠧\u001b[1G\u001b[0K\n",
            "2 \u001b[31m\u001b[1mhigh\u001b[22m\u001b[39m severity vulnerabilities\n",
            "\n",
            "To address all issues (including breaking changes), run:\n",
            "  npm audit fix --force\n",
            "\n",
            "Run `npm audit` for details.\n",
            "\u001b[1G\u001b[0K⠇\u001b[1G\u001b[0K"
          ]
        }
      ]
    },
    {
      "cell_type": "code",
      "source": [
        "!streamlit run /content/app.py &>/content/logs.txt &"
      ],
      "metadata": {
        "id": "Xhp6NHrOzQQu"
      },
      "execution_count": null,
      "outputs": []
    },
    {
      "cell_type": "code",
      "source": [
        "!npx localtunnel --port 8501"
      ],
      "metadata": {
        "colab": {
          "base_uri": "https://localhost:8080/"
        },
        "id": "tg0LPSenzSWu",
        "outputId": "0530dc88-9987-4a90-f5f9-7d2c4f0db608"
      },
      "execution_count": null,
      "outputs": [
        {
          "output_type": "stream",
          "name": "stdout",
          "text": [
            "\u001b[1G\u001b[0K⠙\u001b[1G\u001b[0Kyour url is: https://heavy-webs-flow.loca.lt\n",
            "^C\n"
          ]
        }
      ]
    }
  ]
}